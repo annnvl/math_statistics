{
 "cells": [
  {
   "cell_type": "markdown",
   "metadata": {},
   "source": [
    "# Задача 9.2"
   ]
  },
  {
   "cell_type": "code",
   "execution_count": 1,
   "metadata": {
    "collapsed": true
   },
   "outputs": [],
   "source": [
    "import numpy as np\n",
    "from scipy import optimize\n",
    "from math import sqrt\n",
    "from numpy.linalg import inv\n",
    "import pandas as pd\n",
    "import random\n",
    "import matplotlib.pyplot as plt"
   ]
  },
  {
   "cell_type": "code",
   "execution_count": 2,
   "metadata": {
    "collapsed": false
   },
   "outputs": [],
   "source": [
    "input = open(\"496 Власова Анна.txt\")\n",
    "data = list(map(float, input.readlines()))\n",
    "input.close()"
   ]
  },
  {
   "cell_type": "markdown",
   "metadata": {},
   "source": [
    "По формуле $(Z*Z^T)^{-1}*Z^T*X$, получаем"
   ]
  },
  {
   "cell_type": "code",
   "execution_count": 3,
   "metadata": {
    "collapsed": false
   },
   "outputs": [
    {
     "name": "stdout",
     "output_type": "stream",
     "text": [
      "[[ 295.01526409]\n",
      " [   3.89565933]]\n"
     ]
    }
   ],
   "source": [
    "z = list()\n",
    "for i in np.arange(len(data)):\n",
    "    z.append ([1, i])\n",
    "z = np.matrix(z)\n",
    "data = np.matrix(data).transpose() \n",
    "res = inv(z.transpose() * z) * z.transpose() * data\n",
    "print(res)"
   ]
  },
  {
   "cell_type": "markdown",
   "metadata": {},
   "source": [
    "###### $\\beta_1 = 295.01526409, \\beta_2 = 3.89565933$\n",
    "Для $\\sigma^2:$\n",
    "$$\\frac{1}{n-2}||X - Z\\theta_{MQ}||^2$$"
   ]
  },
  {
   "cell_type": "code",
   "execution_count": 4,
   "metadata": {
    "collapsed": false
   },
   "outputs": [
    {
     "name": "stdout",
     "output_type": "stream",
     "text": [
      "[[ 0.70393437]]\n"
     ]
    }
   ],
   "source": [
    "vec = data - z*res\n",
    "sigma = (vec.transpose() * vec)/(len(data)-2)\n",
    "print(sigma)"
   ]
  },
  {
   "cell_type": "markdown",
   "metadata": {},
   "source": [
    "$\\sigma^2 = 0.704$"
   ]
  },
  {
   "cell_type": "code",
   "execution_count": 5,
   "metadata": {
    "collapsed": false
   },
   "outputs": [
    {
     "name": "stdout",
     "output_type": "stream",
     "text": [
      "[[ 0.04638422]]\n"
     ]
    }
   ],
   "source": [
    "sigma_t = sigma/(res[1]**2)\n",
    "print (sigma_t)"
   ]
  },
  {
   "cell_type": "markdown",
   "metadata": {},
   "source": [
    "$\\sigma_t^2 = 0.046$"
   ]
  },
  {
   "cell_type": "code",
   "execution_count": 10,
   "metadata": {
    "collapsed": false
   },
   "outputs": [],
   "source": [
    "output = open(\"496 Власова Анна.txt\", 'w')\n",
    "output.write(str(res[0])+\" \"+str(res[1])+\" \"+str(sigma)+\" \"+str(sigma_t))\n",
    "output.close()"
   ]
  }
 ],
 "metadata": {
  "kernelspec": {
   "display_name": "Python 3",
   "language": "python",
   "name": "python3"
  },
  "language_info": {
   "codemirror_mode": {
    "name": "ipython",
    "version": 3
   },
   "file_extension": ".py",
   "mimetype": "text/x-python",
   "name": "python",
   "nbconvert_exporter": "python",
   "pygments_lexer": "ipython3",
   "version": "3.5.0"
  }
 },
 "nbformat": 4,
 "nbformat_minor": 0
}
