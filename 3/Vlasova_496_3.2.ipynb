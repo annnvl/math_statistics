{
 "cells": [
  {
   "cell_type": "markdown",
   "metadata": {},
   "source": [
    "# Задача 3.2"
   ]
  },
  {
   "cell_type": "code",
   "execution_count": 1,
   "metadata": {
    "collapsed": false
   },
   "outputs": [],
   "source": [
    "import numpy as np\n",
    "import math as mth\n",
    "import scipy.stats as sps\n",
    "import matplotlib.pyplot as plt\n",
    "from statsmodels.distributions.empirical_distribution import ECDF\n",
    "from __future__ import division"
   ]
  },
  {
   "cell_type": "markdown",
   "metadata": {},
   "source": [
    "### Излучатель"
   ]
  },
  {
   "cell_type": "code",
   "execution_count": 2,
   "metadata": {
    "collapsed": false
   },
   "outputs": [],
   "source": [
    "sample = np.loadtxt('Cauchy.txt')\n",
    "n = len(sample)"
   ]
  },
  {
   "cell_type": "markdown",
   "metadata": {},
   "source": [
    "В данном случае функцией правдоподобия является величина $$\\prod_{i=1}^{n}\\frac{1}{\\pi(1+(x_i-x_0)^2)} $$ где n - размер выборки.\n",
    "Т.к. с суммой величин работать гораздо приятнее, чем с произведением, я найду argmax не фукции правдоподобия, а ее логарифма (в силу монотонности логарифма максимум достигается в одной точке), равного $$\\sum_{i=1}^{n} -\\ln \\pi - \\ln(1+(x_i-x_0)^2) $$ но так как первое $n\\ln\\pi = const$, значит достаточно будет найти $$argmax \\sum_{i=1}^{n} - \\ln(1+(x_i-x_0)^2) $$ или argmin соответствующей суммы без минуса."
   ]
  },
  {
   "cell_type": "code",
   "execution_count": 3,
   "metadata": {
    "collapsed": true
   },
   "outputs": [],
   "source": [
    "def count(x, minind, maxind):\n",
    "    return sum([mth.log(1 + (sample[i] - x)**2) for i in np.arange(minind, maxind)])"
   ]
  },
  {
   "cell_type": "code",
   "execution_count": 4,
   "metadata": {
    "collapsed": false
   },
   "outputs": [],
   "source": [
    "grid = np.linspace(-1000, 1000, 200001)\n",
    "halfmin = -1000\n",
    "wholemin = halfmin\n",
    "#min1 - по половине, min2 - по всей\n",
    "min1 = min2 = np.inf\n",
    "for x in grid:\n",
    "    y = count(x, 0, mth.floor(n/2))\n",
    "    z = y + count(x, mth.floor(n/2), n)\n",
    "    if (y < min1):\n",
    "        min1 = y\n",
    "        halfmin = x\n",
    "    if (y < min2):\n",
    "        min2 = z\n",
    "        wholemin = x"
   ]
  },
  {
   "cell_type": "markdown",
   "metadata": {},
   "source": [
    "Итак, оценивая параметр сдвига методом максимального правдоподобия, получим следующие результаты"
   ]
  },
  {
   "cell_type": "code",
   "execution_count": 5,
   "metadata": {
    "collapsed": false
   },
   "outputs": [
    {
     "name": "stdout",
     "output_type": "stream",
     "text": [
      "По половине выборки - 345.58\n",
      "По всей выборке - 1000.0\n"
     ]
    }
   ],
   "source": [
    "print('По половине выборки -', halfmin)\n",
    "print('По всей выборке -', wholemin)"
   ]
  },
  {
   "cell_type": "markdown",
   "metadata": {},
   "source": [
    "### Банк"
   ]
  },
  {
   "cell_type": "code",
   "execution_count": 6,
   "metadata": {
    "collapsed": false
   },
   "outputs": [],
   "source": [
    "sample = np.loadtxt('Weibull.txt')\n",
    "n=len(sample)"
   ]
  },
  {
   "cell_type": "markdown",
   "metadata": {
    "collapsed": true
   },
   "source": [
    "Прологарифмировав функцию правдоподобия, получим: $$p_\\gamma(\\vec x) = \\sum_{i=1}^{n}\\ln(1 - e^{-x_i^\\gamma})$$ (Индикатор только дожавляет ко всем значениям суммы одинаковую константу, здесь он везде = 1, поэтому я его даже не рассматриваю)"
   ]
  },
  {
   "cell_type": "code",
   "execution_count": 7,
   "metadata": {
    "collapsed": true
   },
   "outputs": [],
   "source": [
    "def weibull(gamma, minind, maxind):\n",
    "    \n",
    "    return sum([mth.log(1 - mth.e**(-sample[i]**gamma)) for i in np.arange(minind, maxind)])"
   ]
  },
  {
   "cell_type": "markdown",
   "metadata": {},
   "source": [
    "Ищем её argmax:"
   ]
  },
  {
   "cell_type": "code",
   "execution_count": 8,
   "metadata": {
    "collapsed": false
   },
   "outputs": [],
   "source": [
    "max1 = max2 = -np.inf\n",
    "max4 = max10 = -3 #тут будут ответы\n",
    "#x = log_10 (gamma)\n",
    "for x in np.linspace(-2, 2, 20001):\n",
    "    y = weibull(10**x, 0, 1461)\n",
    "    z = weibull(10**x, 1461, n) + y\n",
    "    if(y > max1):\n",
    "        max1 = y\n",
    "        max4 = x\n",
    "    if(z > max2):\n",
    "        max2 = z;\n",
    "        max10 = x"
   ]
  },
  {
   "cell_type": "markdown",
   "metadata": {},
   "source": [
    "Оценив параметр формы по меттоду максимального правдоподобия, получаем следующие результаты:"
   ]
  },
  {
   "cell_type": "code",
   "execution_count": 9,
   "metadata": {
    "collapsed": false
   },
   "outputs": [
    {
     "name": "stdout",
     "output_type": "stream",
     "text": [
      "По 4 годам - 10^ -2.0\n",
      "По 10 годам - 10^ -2.0\n"
     ]
    }
   ],
   "source": [
    "print('По 4 годам - 10^', max4)\n",
    "print('По 10 годам - 10^', max10)"
   ]
  }
 ],
 "metadata": {
  "kernelspec": {
   "display_name": "Python 3",
   "language": "python",
   "name": "python3"
  },
  "language_info": {
   "codemirror_mode": {
    "name": "ipython",
    "version": 3
   },
   "file_extension": ".py",
   "mimetype": "text/x-python",
   "name": "python",
   "nbconvert_exporter": "python",
   "pygments_lexer": "ipython3",
   "version": "3.5.0"
  }
 },
 "nbformat": 4,
 "nbformat_minor": 0
}
