{
 "cells": [
  {
   "cell_type": "markdown",
   "metadata": {},
   "source": [
    "# Задача 6.1"
   ]
  },
  {
   "cell_type": "code",
   "execution_count": 13,
   "metadata": {
    "collapsed": true
   },
   "outputs": [],
   "source": [
    "import numpy as np\n",
    "import time"
   ]
  },
  {
   "cell_type": "markdown",
   "metadata": {},
   "source": [
    "Загружаем данные из файла"
   ]
  },
  {
   "cell_type": "code",
   "execution_count": 14,
   "metadata": {
    "collapsed": false
   },
   "outputs": [],
   "source": [
    "data = np.loadtxt(\"task6.txt\")\n",
    "lam = data[0]\n",
    "data = data[1:]\n",
    "t_0 = 1\n",
    "t = 60\n",
    "\n",
    "N_t = [len([x for x in data if t >= x]) for t in range(61)]"
   ]
  },
  {
   "cell_type": "markdown",
   "metadata": {},
   "source": [
    "### Расчет нужного количества серверов"
   ]
  },
  {
   "cell_type": "markdown",
   "metadata": {},
   "source": [
    "Так как $(N_t - N_s)$ и $N_s$ независимы, то $$E(N_t - N_s|N_s) = E(N_t - N_s)$$ $$(N_t - N_s) \\sim Pois(\\lambda(t - s))$$ поэтому  $E(N_t - N_s) = \\lambda(t - s)$. В итоге, получается, что: $$E(N_t|N_s) = E(N_t - N_s + N_s|N_s) = E(N_t - N_s|N_s) + E(N_s|N_s) = E(N_t - N_s) + N_s = \\lambda(t - s) + N_s$$"
   ]
  },
  {
   "cell_type": "code",
   "execution_count": 15,
   "metadata": {
    "collapsed": false
   },
   "outputs": [
    {
     "name": "stdout",
     "output_type": "stream",
     "text": [
      "0\t12.0\n",
      "1\t11.8\n",
      "2\t12.6\n",
      "3\t12.4\n",
      "4\t13.2\n",
      "5\t13.0\n",
      "6\t12.8\n",
      "7\t12.6\n",
      "8\t12.4\n",
      "9\t13.2\n",
      "10\t14.0\n",
      "11\t13.8\n",
      "12\t13.6\n",
      "13\t13.4\n",
      "14\t13.2\n",
      "15\t13.0\n",
      "16\t12.8\n",
      "17\t12.6\n",
      "18\t12.4\n",
      "19\t13.2\n",
      "20\t13.0\n",
      "21\t12.8\n",
      "22\t12.6\n",
      "23\t13.4\n",
      "24\t13.2\n",
      "25\t13.0\n",
      "26\t12.8\n",
      "27\t12.6\n",
      "28\t12.4\n",
      "29\t13.2\n",
      "30\t13.0\n",
      "31\t12.8\n",
      "32\t12.6\n",
      "33\t12.4\n",
      "34\t12.2\n",
      "35\t12.0\n",
      "36\t11.8\n",
      "37\t11.6\n",
      "38\t11.4\n",
      "39\t11.2\n",
      "40\t11.0\n",
      "41\t10.8\n",
      "42\t10.6\n",
      "43\t10.4\n",
      "44\t10.2\n",
      "45\t10.0\n",
      "46\t9.8\n",
      "47\t10.6\n",
      "48\t10.4\n",
      "49\t11.2\n",
      "50\t11.0\n",
      "51\t10.8\n",
      "52\t12.6\n",
      "53\t12.4\n",
      "54\t12.2\n",
      "55\t12.0\n",
      "56\t11.8\n",
      "57\t11.6\n",
      "58\t11.4\n",
      "59\t11.2\n",
      "60\t11.0\n"
     ]
    }
   ],
   "source": [
    "events = [data + np.arange(1,61)\n",
    "for s in range(61):\n",
    "    print(str(s)+'\\t'+str(lam*(t - s) + N_t[s]))\n",
    "    time.sleep(1)"
   ]
  }
 ],
 "metadata": {
  "kernelspec": {
   "display_name": "Python 3",
   "language": "python",
   "name": "python3"
  },
  "language_info": {
   "codemirror_mode": {
    "name": "ipython",
    "version": 3
   },
   "file_extension": ".py",
   "mimetype": "text/x-python",
   "name": "python",
   "nbconvert_exporter": "python",
   "pygments_lexer": "ipython3",
   "version": "3.5.0"
  }
 },
 "nbformat": 4,
 "nbformat_minor": 0
}
